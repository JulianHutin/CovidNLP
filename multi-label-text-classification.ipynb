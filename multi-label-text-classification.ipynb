{
 "cells": [
  {
   "cell_type": "markdown",
   "id": "76a805c4",
   "metadata": {
    "papermill": {
     "duration": 0.008342,
     "end_time": "2023-02-04T14:33:38.152757",
     "exception": false,
     "start_time": "2023-02-04T14:33:38.144415",
     "status": "completed"
    },
    "tags": []
   },
   "source": [
    "# Context\n",
    "This Challenge concerns the problem of text analysis using automatic natural language processing (NLP) and machine learning (ML) techniques. The dataset used here is part of a questionnaire conducted during the first containment in France in 2020 to survey people over 75 years old about their perception of the Coronavirus crisis. To give you an idea of the types of questions asked, the first block of questions concerns the perception of the danger of the Coronavirus. It includes three questions:\n",
    "\n",
    "* Do you consider CORONAVIRUS as: no danger or low danger, moderate danger, serious danger.\n",
    "* On a scale of 0 to 10, how intense have you been in the last few days?\n",
    "* Tell us what concerns you have?\n",
    "\n",
    "The first two questions are closed questions and will not be covered by this challenge. However, the third question invites people to express themselves openly with their own sentences and the analysis of these is the subject of this challenge. More precisely, the objective here will be to categorise each response into one or two at a time from four categories (classes). This problem is known in the literature as MultiLabel Classification."
   ]
  },
  {
   "cell_type": "code",
   "execution_count": 1,
   "id": "b4df0325",
   "metadata": {
    "execution": {
     "iopub.execute_input": "2023-02-04T14:33:38.169918Z",
     "iopub.status.busy": "2023-02-04T14:33:38.168848Z",
     "iopub.status.idle": "2023-02-04T14:33:40.530684Z",
     "shell.execute_reply": "2023-02-04T14:33:40.529231Z"
    },
    "id": "UWx8tMGsmJCo",
    "papermill": {
     "duration": 2.374901,
     "end_time": "2023-02-04T14:33:40.534788",
     "exception": false,
     "start_time": "2023-02-04T14:33:38.159887",
     "status": "completed"
    },
    "tags": []
   },
   "outputs": [
    {
     "name": "stderr",
     "output_type": "stream",
     "text": [
      "[nltk_data] Downloading package stopwords to /usr/share/nltk_data...\n",
      "[nltk_data]   Package stopwords is already up-to-date!\n"
     ]
    },
    {
     "data": {
      "text/plain": [
       "True"
      ]
     },
     "execution_count": 1,
     "metadata": {},
     "output_type": "execute_result"
    }
   ],
   "source": [
    "import string\n",
    "import re\n",
    "from collections import Counter\n",
    "import nltk\n",
    "from nltk.corpus import stopwords\n",
    "nltk.download('stopwords')"
   ]
  },
  {
   "cell_type": "code",
   "execution_count": 2,
   "id": "4121f88c",
   "metadata": {
    "execution": {
     "iopub.execute_input": "2023-02-04T14:33:40.552705Z",
     "iopub.status.busy": "2023-02-04T14:33:40.551055Z",
     "iopub.status.idle": "2023-02-04T14:33:40.557870Z",
     "shell.execute_reply": "2023-02-04T14:33:40.556724Z"
    },
    "id": "9s_qzP16Kcdl",
    "papermill": {
     "duration": 0.018508,
     "end_time": "2023-02-04T14:33:40.560643",
     "exception": false,
     "start_time": "2023-02-04T14:33:40.542135",
     "status": "completed"
    },
    "tags": []
   },
   "outputs": [],
   "source": [
    "import pandas as pd"
   ]
  },
  {
   "cell_type": "code",
   "execution_count": 3,
   "id": "0791a4b2",
   "metadata": {
    "execution": {
     "iopub.execute_input": "2023-02-04T14:33:40.578784Z",
     "iopub.status.busy": "2023-02-04T14:33:40.577795Z",
     "iopub.status.idle": "2023-02-04T14:33:40.618960Z",
     "shell.execute_reply": "2023-02-04T14:33:40.617313Z"
    },
    "id": "hkgBayhIHrMi",
    "outputId": "575d023c-9a97-43db-9a48-d2c8b804a138",
    "papermill": {
     "duration": 0.054077,
     "end_time": "2023-02-04T14:33:40.622500",
     "exception": false,
     "start_time": "2023-02-04T14:33:40.568423",
     "status": "completed"
    },
    "tags": []
   },
   "outputs": [
    {
     "data": {
      "text/html": [
       "<div>\n",
       "<style scoped>\n",
       "    .dataframe tbody tr th:only-of-type {\n",
       "        vertical-align: middle;\n",
       "    }\n",
       "\n",
       "    .dataframe tbody tr th {\n",
       "        vertical-align: top;\n",
       "    }\n",
       "\n",
       "    .dataframe thead th {\n",
       "        text-align: right;\n",
       "    }\n",
       "</style>\n",
       "<table border=\"1\" class=\"dataframe\">\n",
       "  <thead>\n",
       "    <tr style=\"text-align: right;\">\n",
       "      <th></th>\n",
       "      <th>Id</th>\n",
       "      <th>Caption</th>\n",
       "    </tr>\n",
       "  </thead>\n",
       "  <tbody>\n",
       "    <tr>\n",
       "      <th>0</th>\n",
       "      <td>2</td>\n",
       "      <td>de mourir avant l'heure\\n de ne plus revoir me...</td>\n",
       "    </tr>\n",
       "    <tr>\n",
       "      <th>1</th>\n",
       "      <td>3</td>\n",
       "      <td>la maladie pour les autres et pour moi\\n et le...</td>\n",
       "    </tr>\n",
       "    <tr>\n",
       "      <th>2</th>\n",
       "      <td>4</td>\n",
       "      <td>Comment vont s'en sortir ceux qui sont mal ou ...</td>\n",
       "    </tr>\n",
       "    <tr>\n",
       "      <th>3</th>\n",
       "      <td>6</td>\n",
       "      <td>Inquiétude pour la santé de mes proches, pour ...</td>\n",
       "    </tr>\n",
       "    <tr>\n",
       "      <th>4</th>\n",
       "      <td>7</td>\n",
       "      <td>Bien entendu contracter la maladie,</td>\n",
       "    </tr>\n",
       "  </tbody>\n",
       "</table>\n",
       "</div>"
      ],
      "text/plain": [
       "   Id                                            Caption\n",
       "0   2  de mourir avant l'heure\\n de ne plus revoir me...\n",
       "1   3  la maladie pour les autres et pour moi\\n et le...\n",
       "2   4  Comment vont s'en sortir ceux qui sont mal ou ...\n",
       "3   6  Inquiétude pour la santé de mes proches, pour ...\n",
       "4   7                Bien entendu contracter la maladie,"
      ]
     },
     "execution_count": 3,
     "metadata": {},
     "output_type": "execute_result"
    }
   ],
   "source": [
    "X_train=pd.read_csv('/kaggle/input/chal-data-nlp/X_train.csv',sep=';')\n",
    "X_train.head()"
   ]
  },
  {
   "cell_type": "code",
   "execution_count": 4,
   "id": "751eb3f6",
   "metadata": {
    "execution": {
     "iopub.execute_input": "2023-02-04T14:33:40.640507Z",
     "iopub.status.busy": "2023-02-04T14:33:40.639947Z",
     "iopub.status.idle": "2023-02-04T14:33:40.659642Z",
     "shell.execute_reply": "2023-02-04T14:33:40.658260Z"
    },
    "id": "_gPTBtHMHyMl",
    "outputId": "f889bb47-d291-47f9-f3d3-e9ea3632d5de",
    "papermill": {
     "duration": 0.032355,
     "end_time": "2023-02-04T14:33:40.662826",
     "exception": false,
     "start_time": "2023-02-04T14:33:40.630471",
     "status": "completed"
    },
    "tags": []
   },
   "outputs": [
    {
     "data": {
      "text/html": [
       "<div>\n",
       "<style scoped>\n",
       "    .dataframe tbody tr th:only-of-type {\n",
       "        vertical-align: middle;\n",
       "    }\n",
       "\n",
       "    .dataframe tbody tr th {\n",
       "        vertical-align: top;\n",
       "    }\n",
       "\n",
       "    .dataframe thead th {\n",
       "        text-align: right;\n",
       "    }\n",
       "</style>\n",
       "<table border=\"1\" class=\"dataframe\">\n",
       "  <thead>\n",
       "    <tr style=\"text-align: right;\">\n",
       "      <th></th>\n",
       "      <th>Id</th>\n",
       "      <th>Caption</th>\n",
       "    </tr>\n",
       "  </thead>\n",
       "  <tbody>\n",
       "    <tr>\n",
       "      <th>0</th>\n",
       "      <td>599</td>\n",
       "      <td>quand tout cela va t il  se terminer ?</td>\n",
       "    </tr>\n",
       "    <tr>\n",
       "      <th>1</th>\n",
       "      <td>600</td>\n",
       "      <td>Que le futur demeure incertain... qu'on ne pui...</td>\n",
       "    </tr>\n",
       "    <tr>\n",
       "      <th>2</th>\n",
       "      <td>602</td>\n",
       "      <td>De ne plus pouvoir vivre comme auparavant.</td>\n",
       "    </tr>\n",
       "    <tr>\n",
       "      <th>3</th>\n",
       "      <td>603</td>\n",
       "      <td>pour mes proches</td>\n",
       "    </tr>\n",
       "    <tr>\n",
       "      <th>4</th>\n",
       "      <td>604</td>\n",
       "      <td>la honte !!!  d'être un des pays les plus rich...</td>\n",
       "    </tr>\n",
       "  </tbody>\n",
       "</table>\n",
       "</div>"
      ],
      "text/plain": [
       "   Id                                             Caption\n",
       "0  599             quand tout cela va t il  se terminer ?\n",
       "1  600  Que le futur demeure incertain... qu'on ne pui...\n",
       "2  602         De ne plus pouvoir vivre comme auparavant.\n",
       "3  603                                   pour mes proches\n",
       "4  604  la honte !!!  d'être un des pays les plus rich..."
      ]
     },
     "execution_count": 4,
     "metadata": {},
     "output_type": "execute_result"
    }
   ],
   "source": [
    "X_test=pd.read_csv('/kaggle/input/chal-data-nlp/X_test.csv',sep=';')\n",
    "X_test.head()"
   ]
  },
  {
   "cell_type": "code",
   "execution_count": 5,
   "id": "cf82e5fc",
   "metadata": {
    "execution": {
     "iopub.execute_input": "2023-02-04T14:33:40.682397Z",
     "iopub.status.busy": "2023-02-04T14:33:40.681850Z",
     "iopub.status.idle": "2023-02-04T14:33:40.711682Z",
     "shell.execute_reply": "2023-02-04T14:33:40.709910Z"
    },
    "id": "OXCGqL9xH5js",
    "outputId": "bff091ab-131d-4f92-9a78-6429fb147e78",
    "papermill": {
     "duration": 0.043132,
     "end_time": "2023-02-04T14:33:40.714972",
     "exception": false,
     "start_time": "2023-02-04T14:33:40.671840",
     "status": "completed"
    },
    "tags": []
   },
   "outputs": [
    {
     "data": {
      "text/html": [
       "<div>\n",
       "<style scoped>\n",
       "    .dataframe tbody tr th:only-of-type {\n",
       "        vertical-align: middle;\n",
       "    }\n",
       "\n",
       "    .dataframe tbody tr th {\n",
       "        vertical-align: top;\n",
       "    }\n",
       "\n",
       "    .dataframe thead th {\n",
       "        text-align: right;\n",
       "    }\n",
       "</style>\n",
       "<table border=\"1\" class=\"dataframe\">\n",
       "  <thead>\n",
       "    <tr style=\"text-align: right;\">\n",
       "      <th></th>\n",
       "      <th>category_1</th>\n",
       "      <th>category_2</th>\n",
       "      <th>category_3</th>\n",
       "      <th>category_4</th>\n",
       "    </tr>\n",
       "  </thead>\n",
       "  <tbody>\n",
       "    <tr>\n",
       "      <th>0</th>\n",
       "      <td>1</td>\n",
       "      <td>1</td>\n",
       "      <td>0</td>\n",
       "      <td>0</td>\n",
       "    </tr>\n",
       "    <tr>\n",
       "      <th>1</th>\n",
       "      <td>0</td>\n",
       "      <td>1</td>\n",
       "      <td>0</td>\n",
       "      <td>0</td>\n",
       "    </tr>\n",
       "    <tr>\n",
       "      <th>2</th>\n",
       "      <td>0</td>\n",
       "      <td>1</td>\n",
       "      <td>0</td>\n",
       "      <td>0</td>\n",
       "    </tr>\n",
       "    <tr>\n",
       "      <th>3</th>\n",
       "      <td>0</td>\n",
       "      <td>1</td>\n",
       "      <td>0</td>\n",
       "      <td>0</td>\n",
       "    </tr>\n",
       "    <tr>\n",
       "      <th>4</th>\n",
       "      <td>1</td>\n",
       "      <td>0</td>\n",
       "      <td>0</td>\n",
       "      <td>0</td>\n",
       "    </tr>\n",
       "  </tbody>\n",
       "</table>\n",
       "</div>"
      ],
      "text/plain": [
       "   category_1  category_2  category_3  category_4\n",
       "0           1           1           0           0\n",
       "1           0           1           0           0\n",
       "2           0           1           0           0\n",
       "3           0           1           0           0\n",
       "4           1           0           0           0"
      ]
     },
     "execution_count": 5,
     "metadata": {},
     "output_type": "execute_result"
    }
   ],
   "source": [
    "y_train=pd.read_csv('/kaggle/input/chal-data-nlp/y_train.csv',sep=';')\n",
    "y_train.drop(['Id'],axis=1,inplace=True)\n",
    "y_train.head()"
   ]
  },
  {
   "cell_type": "code",
   "execution_count": 6,
   "id": "81caf118",
   "metadata": {
    "execution": {
     "iopub.execute_input": "2023-02-04T14:33:40.735816Z",
     "iopub.status.busy": "2023-02-04T14:33:40.735195Z",
     "iopub.status.idle": "2023-02-04T14:33:40.776324Z",
     "shell.execute_reply": "2023-02-04T14:33:40.775161Z"
    },
    "id": "FIp-YN_PkjvG",
    "outputId": "725e5f08-0ff8-4cf8-90fa-2c82bb40d727",
    "papermill": {
     "duration": 0.056153,
     "end_time": "2023-02-04T14:33:40.779890",
     "exception": false,
     "start_time": "2023-02-04T14:33:40.723737",
     "status": "completed"
    },
    "tags": []
   },
   "outputs": [
    {
     "data": {
      "text/html": [
       "<div>\n",
       "<style scoped>\n",
       "    .dataframe tbody tr th:only-of-type {\n",
       "        vertical-align: middle;\n",
       "    }\n",
       "\n",
       "    .dataframe tbody tr th {\n",
       "        vertical-align: top;\n",
       "    }\n",
       "\n",
       "    .dataframe thead th {\n",
       "        text-align: right;\n",
       "    }\n",
       "</style>\n",
       "<table border=\"1\" class=\"dataframe\">\n",
       "  <thead>\n",
       "    <tr style=\"text-align: right;\">\n",
       "      <th></th>\n",
       "      <th>Id</th>\n",
       "      <th>Caption</th>\n",
       "    </tr>\n",
       "  </thead>\n",
       "  <tbody>\n",
       "    <tr>\n",
       "      <th>0</th>\n",
       "      <td>804</td>\n",
       "      <td>Attraper le virus\\n Respiration, de l'astheme\\...</td>\n",
       "    </tr>\n",
       "    <tr>\n",
       "      <th>1</th>\n",
       "      <td>805</td>\n",
       "      <td>les dysfonctionnements (aggravation des inégal...</td>\n",
       "    </tr>\n",
       "    <tr>\n",
       "      <th>2</th>\n",
       "      <td>806</td>\n",
       "      <td>Un déconfinement moyennement observé et peu ef...</td>\n",
       "    </tr>\n",
       "    <tr>\n",
       "      <th>3</th>\n",
       "      <td>807</td>\n",
       "      <td>Contracter le virus et le transmettre a mon mari</td>\n",
       "    </tr>\n",
       "    <tr>\n",
       "      <th>4</th>\n",
       "      <td>808</td>\n",
       "      <td>attraper ce virus</td>\n",
       "    </tr>\n",
       "  </tbody>\n",
       "</table>\n",
       "</div>"
      ],
      "text/plain": [
       "    Id                                            Caption\n",
       "0  804  Attraper le virus\\n Respiration, de l'astheme\\...\n",
       "1  805  les dysfonctionnements (aggravation des inégal...\n",
       "2  806  Un déconfinement moyennement observé et peu ef...\n",
       "3  807   Contracter le virus et le transmettre a mon mari\n",
       "4  808                                  attraper ce virus"
      ]
     },
     "execution_count": 6,
     "metadata": {},
     "output_type": "execute_result"
    }
   ],
   "source": [
    "n_label=pd.read_csv('/kaggle/input/chal-data-nlp/nonlabeled_data.csv',sep=';')\n",
    "n_label.head()"
   ]
  },
  {
   "cell_type": "code",
   "execution_count": 7,
   "id": "9c26f5fe",
   "metadata": {
    "execution": {
     "iopub.execute_input": "2023-02-04T14:33:40.800359Z",
     "iopub.status.busy": "2023-02-04T14:33:40.799768Z",
     "iopub.status.idle": "2023-02-04T14:33:40.810733Z",
     "shell.execute_reply": "2023-02-04T14:33:40.809685Z"
    },
    "id": "Lmo3uImFjW1-",
    "papermill": {
     "duration": 0.024492,
     "end_time": "2023-02-04T14:33:40.813401",
     "exception": false,
     "start_time": "2023-02-04T14:33:40.788909",
     "status": "completed"
    },
    "tags": []
   },
   "outputs": [],
   "source": [
    "# turn a doc into clean tokens\n",
    "def clean_doc(doc, vocab=None, join=False):\n",
    "    # split into tokens by white space\n",
    "    tokens = doc.split()\n",
    "    # prepare regex for char filtering\n",
    "    re_punc = re.compile('[%s]' % re.escape(string.punctuation))\n",
    "    # remove punctuation from each word\n",
    "    tokens = [re_punc.sub('', w) for w in tokens]\n",
    "    # remove remaining tokens that are not alphabetic\n",
    "    tokens = [word for word in tokens if word.isalpha()]\n",
    "    # filter out stop words\n",
    "    stop_words = set(stopwords.words('french'))\n",
    "    tokens = [w for w in tokens if not w in stop_words]\n",
    "    # filter out short tokens\n",
    "    tokens = [word for word in tokens if len(word) > 1]\n",
    "    # filter out tokens not in vocab\n",
    "    if vocab:\n",
    "        tokens = [w for w in tokens if w in vocab]\n",
    "    if join:\n",
    "        tokens = ' '.join(tokens)\n",
    "    return tokens"
   ]
  },
  {
   "cell_type": "code",
   "execution_count": 8,
   "id": "509c3cd8",
   "metadata": {
    "execution": {
     "iopub.execute_input": "2023-02-04T14:33:40.832152Z",
     "iopub.status.busy": "2023-02-04T14:33:40.831657Z",
     "iopub.status.idle": "2023-02-04T14:33:40.909959Z",
     "shell.execute_reply": "2023-02-04T14:33:40.908551Z"
    },
    "id": "tgg_miLJjlG4",
    "papermill": {
     "duration": 0.092803,
     "end_time": "2023-02-04T14:33:40.914346",
     "exception": false,
     "start_time": "2023-02-04T14:33:40.821543",
     "status": "completed"
    },
    "tags": []
   },
   "outputs": [],
   "source": [
    "#clean our documents (Xtrain,X_test and unlabeled_data)\n",
    "doc=X_train.Caption.to_string()\n",
    "token=clean_doc(doc)\n",
    "\n",
    "doc2=n_label.Caption.to_string()\n",
    "token2=clean_doc(doc2)\n",
    "\n",
    "doc3=X_test.Caption.to_string()\n",
    "token3=clean_doc(doc3)"
   ]
  },
  {
   "cell_type": "code",
   "execution_count": 9,
   "id": "68d8310b",
   "metadata": {
    "execution": {
     "iopub.execute_input": "2023-02-04T14:33:40.936023Z",
     "iopub.status.busy": "2023-02-04T14:33:40.935478Z",
     "iopub.status.idle": "2023-02-04T14:33:40.944779Z",
     "shell.execute_reply": "2023-02-04T14:33:40.943180Z"
    },
    "id": "YqIL_qwRkWcZ",
    "papermill": {
     "duration": 0.024383,
     "end_time": "2023-02-04T14:33:40.947740",
     "exception": false,
     "start_time": "2023-02-04T14:33:40.923357",
     "status": "completed"
    },
    "tags": []
   },
   "outputs": [],
   "source": [
    "#add documents to our vocabulary\n",
    "vocab = Counter()\n",
    "vocab.update(token)\n",
    "vocab.update(token2)\n",
    "vocab.update(token3)"
   ]
  },
  {
   "cell_type": "code",
   "execution_count": 10,
   "id": "92501a5c",
   "metadata": {
    "execution": {
     "iopub.execute_input": "2023-02-04T14:33:40.966556Z",
     "iopub.status.busy": "2023-02-04T14:33:40.965708Z",
     "iopub.status.idle": "2023-02-04T14:33:40.971457Z",
     "shell.execute_reply": "2023-02-04T14:33:40.970190Z"
    },
    "id": "6ORG4nOglI5P",
    "papermill": {
     "duration": 0.018746,
     "end_time": "2023-02-04T14:33:40.974575",
     "exception": false,
     "start_time": "2023-02-04T14:33:40.955829",
     "status": "completed"
    },
    "tags": []
   },
   "outputs": [],
   "source": [
    "# save list to file\n",
    "def save_list(tokens, filename):\n",
    "    # convert lines to a single blob of text\n",
    "    lines = '\\n'.join(tokens)\n",
    "    # open file\n",
    "    file = open(filename, 'w')\n",
    "    # write text\n",
    "    file.write(lines)\n",
    "    # close file\n",
    "    file.close()"
   ]
  },
  {
   "cell_type": "code",
   "execution_count": 11,
   "id": "2c2ab2bd",
   "metadata": {
    "execution": {
     "iopub.execute_input": "2023-02-04T14:33:40.993808Z",
     "iopub.status.busy": "2023-02-04T14:33:40.993265Z",
     "iopub.status.idle": "2023-02-04T14:33:41.002023Z",
     "shell.execute_reply": "2023-02-04T14:33:41.000892Z"
    },
    "id": "sQuhmHP_k2n0",
    "outputId": "3a771921-8651-4962-9dd9-522bfd26966b",
    "papermill": {
     "duration": 0.022439,
     "end_time": "2023-02-04T14:33:41.005618",
     "exception": false,
     "start_time": "2023-02-04T14:33:40.983179",
     "status": "completed"
    },
    "tags": []
   },
   "outputs": [
    {
     "name": "stdout",
     "output_type": "stream",
     "text": [
      "token count 1355\n"
     ]
    }
   ],
   "source": [
    "#Create a vocabulary list with words that have at least 2 occurrences.\n",
    "min_occurance = 2\n",
    "tokens = [k for k, c in vocab.items() if c >= min_occurance]\n",
    "print(\"token count\", len(tokens))\n",
    "# save tokens to a vocabulary file\n",
    "save_list(tokens, 'vocab.txt')"
   ]
  },
  {
   "cell_type": "code",
   "execution_count": 12,
   "id": "7423d618",
   "metadata": {
    "execution": {
     "iopub.execute_input": "2023-02-04T14:33:41.026330Z",
     "iopub.status.busy": "2023-02-04T14:33:41.025766Z",
     "iopub.status.idle": "2023-02-04T14:33:41.031728Z",
     "shell.execute_reply": "2023-02-04T14:33:41.030482Z"
    },
    "id": "la5_VJkBlOmM",
    "papermill": {
     "duration": 0.020847,
     "end_time": "2023-02-04T14:33:41.035681",
     "exception": false,
     "start_time": "2023-02-04T14:33:41.014834",
     "status": "completed"
    },
    "tags": []
   },
   "outputs": [],
   "source": [
    "#Use only words in the vocab\n",
    "def doc_to_line(doc, vocab):\n",
    "    # clean doc\n",
    "    tokens = clean_doc(doc)\n",
    "    # filter by vocab\n",
    "    tokens = [w for w in tokens if w in vocab]\n",
    "    return ' '.join(tokens)"
   ]
  },
  {
   "cell_type": "code",
   "execution_count": 13,
   "id": "57ee7483",
   "metadata": {
    "execution": {
     "iopub.execute_input": "2023-02-04T14:33:41.058732Z",
     "iopub.status.busy": "2023-02-04T14:33:41.057926Z",
     "iopub.status.idle": "2023-02-04T14:33:41.280968Z",
     "shell.execute_reply": "2023-02-04T14:33:41.279276Z"
    },
    "id": "OkQck_utmp15",
    "papermill": {
     "duration": 0.238141,
     "end_time": "2023-02-04T14:33:41.284297",
     "exception": false,
     "start_time": "2023-02-04T14:33:41.046156",
     "status": "completed"
    },
    "tags": []
   },
   "outputs": [],
   "source": [
    "#We keep the vocabulary words only\n",
    "doc=[]\n",
    "for i in range(len(X_train)):\n",
    "  text=X_train.Caption[i]\n",
    "  doc.append(doc_to_line(text,tokens))"
   ]
  },
  {
   "cell_type": "code",
   "execution_count": 14,
   "id": "564e3479",
   "metadata": {
    "execution": {
     "iopub.execute_input": "2023-02-04T14:33:41.305009Z",
     "iopub.status.busy": "2023-02-04T14:33:41.304543Z",
     "iopub.status.idle": "2023-02-04T14:33:41.382644Z",
     "shell.execute_reply": "2023-02-04T14:33:41.380971Z"
    },
    "id": "Y9QegUfkrzE3",
    "papermill": {
     "duration": 0.093104,
     "end_time": "2023-02-04T14:33:41.386440",
     "exception": false,
     "start_time": "2023-02-04T14:33:41.293336",
     "status": "completed"
    },
    "tags": []
   },
   "outputs": [],
   "source": [
    "#We keep the vocabulary words only\n",
    "test=[]\n",
    "for i in range(len(X_test)):\n",
    "  text=X_test.Caption[i]\n",
    "  test.append(doc_to_line(text,tokens))"
   ]
  },
  {
   "cell_type": "code",
   "execution_count": 15,
   "id": "5db5e94c",
   "metadata": {
    "execution": {
     "iopub.execute_input": "2023-02-04T14:33:41.407182Z",
     "iopub.status.busy": "2023-02-04T14:33:41.406637Z",
     "iopub.status.idle": "2023-02-04T14:33:41.415506Z",
     "shell.execute_reply": "2023-02-04T14:33:41.414268Z"
    },
    "id": "WY4KE19bnr2T",
    "outputId": "5b5c6a99-71fc-4313-baf4-f0bfee5ab8d4",
    "papermill": {
     "duration": 0.021835,
     "end_time": "2023-02-04T14:33:41.418087",
     "exception": false,
     "start_time": "2023-02-04T14:33:41.396252",
     "status": "completed"
    },
    "tags": []
   },
   "outputs": [
    {
     "data": {
      "text/plain": [
       "487"
      ]
     },
     "execution_count": 15,
     "metadata": {},
     "output_type": "execute_result"
    }
   ],
   "source": [
    "#check the max length for training captions\n",
    "max_length = max([len(k) for k in doc])\n",
    "max_length"
   ]
  },
  {
   "cell_type": "code",
   "execution_count": 16,
   "id": "6784929e",
   "metadata": {
    "execution": {
     "iopub.execute_input": "2023-02-04T14:33:41.438037Z",
     "iopub.status.busy": "2023-02-04T14:33:41.437534Z",
     "iopub.status.idle": "2023-02-04T14:33:41.452681Z",
     "shell.execute_reply": "2023-02-04T14:33:41.451236Z"
    },
    "id": "vc64VWsJrO2P",
    "outputId": "fac5080f-69b2-4e7b-873c-4467b752b7a5",
    "papermill": {
     "duration": 0.029812,
     "end_time": "2023-02-04T14:33:41.456195",
     "exception": false,
     "start_time": "2023-02-04T14:33:41.426383",
     "status": "completed"
    },
    "tags": []
   },
   "outputs": [
    {
     "data": {
      "text/plain": [
       "TfidfVectorizer(max_features=5000,\n",
       "                stop_words=['au', 'aux', 'avec', 'ce', 'ces', 'dans', 'de',\n",
       "                            'des', 'du', 'elle', 'en', 'et', 'eux', 'il', 'ils',\n",
       "                            'je', 'la', 'le', 'les', 'leur', 'lui', 'ma',\n",
       "                            'mais', 'me', 'même', 'mes', 'moi', 'mon', 'ne',\n",
       "                            'nos', ...])"
      ]
     },
     "execution_count": 16,
     "metadata": {},
     "output_type": "execute_result"
    }
   ],
   "source": [
    "from sklearn.feature_extraction.text import CountVectorizer\n",
    "from sklearn.feature_extraction.text import TfidfVectorizer\n",
    "\n",
    "stopwords=stopwords.words('french')\n",
    "vect = TfidfVectorizer(max_features=5000,stop_words=stopwords)\n",
    "vect"
   ]
  },
  {
   "cell_type": "code",
   "execution_count": 17,
   "id": "fdf67726",
   "metadata": {
    "execution": {
     "iopub.execute_input": "2023-02-04T14:33:41.476720Z",
     "iopub.status.busy": "2023-02-04T14:33:41.476062Z",
     "iopub.status.idle": "2023-02-04T14:33:41.506064Z",
     "shell.execute_reply": "2023-02-04T14:33:41.504591Z"
    },
    "id": "J8RBkJyerRBG",
    "outputId": "5fff67db-e8c2-4262-e75e-1ad172ff08d1",
    "papermill": {
     "duration": 0.044161,
     "end_time": "2023-02-04T14:33:41.509053",
     "exception": false,
     "start_time": "2023-02-04T14:33:41.464892",
     "status": "completed"
    },
    "tags": []
   },
   "outputs": [
    {
     "data": {
      "text/plain": [
       "<485x737 sparse matrix of type '<class 'numpy.float64'>'\n",
       "\twith 3853 stored elements in Compressed Sparse Row format>"
      ]
     },
     "execution_count": 17,
     "metadata": {},
     "output_type": "execute_result"
    }
   ],
   "source": [
    "# learn the vocabulary in the training data, then use it to create a document-term matrix\n",
    "X_dtm = vect.fit_transform(doc)\n",
    "# examine the document-term matrix created from X_train\n",
    "X_dtm"
   ]
  },
  {
   "cell_type": "code",
   "execution_count": 18,
   "id": "12679d6b",
   "metadata": {
    "execution": {
     "iopub.execute_input": "2023-02-04T14:33:41.530944Z",
     "iopub.status.busy": "2023-02-04T14:33:41.530409Z",
     "iopub.status.idle": "2023-02-04T14:33:41.543626Z",
     "shell.execute_reply": "2023-02-04T14:33:41.542009Z"
    },
    "id": "3IOA-zZ4rvsK",
    "outputId": "6f1fd2fc-c5d4-4b4f-ed8d-93eccf078973",
    "papermill": {
     "duration": 0.028034,
     "end_time": "2023-02-04T14:33:41.546599",
     "exception": false,
     "start_time": "2023-02-04T14:33:41.518565",
     "status": "completed"
    },
    "tags": []
   },
   "outputs": [
    {
     "data": {
      "text/plain": [
       "<157x737 sparse matrix of type '<class 'numpy.float64'>'\n",
       "\twith 1245 stored elements in Compressed Sparse Row format>"
      ]
     },
     "execution_count": 18,
     "metadata": {},
     "output_type": "execute_result"
    }
   ],
   "source": [
    "# transform the test data using the earlier fitted vocabulary, into a document-term matrix\n",
    "test_X_dtm = vect.transform(test)\n",
    "# examine the document-term matrix from X_test\n",
    "test_X_dtm"
   ]
  },
  {
   "cell_type": "code",
   "execution_count": 19,
   "id": "5e9aff95",
   "metadata": {
    "execution": {
     "iopub.execute_input": "2023-02-04T14:33:41.567913Z",
     "iopub.status.busy": "2023-02-04T14:33:41.567326Z",
     "iopub.status.idle": "2023-02-04T14:33:41.573203Z",
     "shell.execute_reply": "2023-02-04T14:33:41.572127Z"
    },
    "id": "gR24bYEwsM0g",
    "papermill": {
     "duration": 0.019632,
     "end_time": "2023-02-04T14:33:41.575878",
     "exception": false,
     "start_time": "2023-02-04T14:33:41.556246",
     "status": "completed"
    },
    "tags": []
   },
   "outputs": [],
   "source": [
    "cols_target=['category_1','category_2','category_3','category_4']"
   ]
  },
  {
   "cell_type": "code",
   "execution_count": 20,
   "id": "09404186",
   "metadata": {
    "execution": {
     "iopub.execute_input": "2023-02-04T14:33:41.596132Z",
     "iopub.status.busy": "2023-02-04T14:33:41.595567Z",
     "iopub.status.idle": "2023-02-04T14:33:41.753752Z",
     "shell.execute_reply": "2023-02-04T14:33:41.752169Z"
    },
    "id": "eVNtt8rxsHVn",
    "outputId": "70a42bac-9274-4ebd-e075-81b7ad9f6240",
    "papermill": {
     "duration": 0.172147,
     "end_time": "2023-02-04T14:33:41.757089",
     "exception": false,
     "start_time": "2023-02-04T14:33:41.584942",
     "status": "completed"
    },
    "tags": []
   },
   "outputs": [
    {
     "name": "stdout",
     "output_type": "stream",
     "text": [
      "... Processing category_1\n",
      "Training accuracy is 0.9917525773195877\n",
      "... Processing category_2\n",
      "Training accuracy is 0.9917525773195877\n",
      "... Processing category_3\n",
      "Training accuracy is 0.9938144329896907\n",
      "... Processing category_4\n",
      "Training accuracy is 0.9876288659793815\n"
     ]
    }
   ],
   "source": [
    "# import and instantiate the Logistic Regression model\n",
    "from sklearn.linear_model import LogisticRegression\n",
    "from sklearn.metrics import accuracy_score\n",
    "logreg = LogisticRegression(C=12.0)\n",
    "\n",
    "for label in cols_target:\n",
    "    print('... Processing {}'.format(label))\n",
    "    y = y_train[label]\n",
    "    # train the model using X_dtm & y\n",
    "    logreg.fit(X_dtm, y)\n",
    "    # compute the training accuracy\n",
    "    y_pred_X = logreg.predict(X_dtm)\n",
    "    print('Training accuracy is {}'.format(accuracy_score(y, y_pred_X)))\n",
    "    "
   ]
  },
  {
   "cell_type": "code",
   "execution_count": 21,
   "id": "ade8c829",
   "metadata": {
    "execution": {
     "iopub.execute_input": "2023-02-04T14:33:41.777477Z",
     "iopub.status.busy": "2023-02-04T14:33:41.776404Z",
     "iopub.status.idle": "2023-02-04T14:33:41.915054Z",
     "shell.execute_reply": "2023-02-04T14:33:41.913193Z"
    },
    "id": "FN8slJBoslB8",
    "outputId": "8f6a8feb-2f06-4652-d92c-53a8ced8a302",
    "papermill": {
     "duration": 0.153246,
     "end_time": "2023-02-04T14:33:41.919200",
     "exception": false,
     "start_time": "2023-02-04T14:33:41.765954",
     "status": "completed"
    },
    "tags": []
   },
   "outputs": [
    {
     "name": "stdout",
     "output_type": "stream",
     "text": [
      "... Processing category_1\n",
      "... Processing category_2\n",
      "... Processing category_3\n",
      "... Processing category_4\n"
     ]
    }
   ],
   "source": [
    "# create submission file\n",
    "submission_binary = X_test.copy()\n",
    "submission_binary.drop(['Caption'],axis=1,inplace=True)\n",
    "\n",
    "for label in cols_target:\n",
    "    print('... Processing {}'.format(label))\n",
    "    y = y_train[label]\n",
    "    # train the model using X_dtm & y\n",
    "    logreg.fit(X_dtm, y)\n",
    "    # predict test labels\n",
    "    y_pred = logreg.predict(test_X_dtm)\n",
    "    submission_binary[label] = y_pred"
   ]
  },
  {
   "cell_type": "code",
   "execution_count": 22,
   "id": "58643c17",
   "metadata": {
    "execution": {
     "iopub.execute_input": "2023-02-04T14:33:41.942186Z",
     "iopub.status.busy": "2023-02-04T14:33:41.941645Z",
     "iopub.status.idle": "2023-02-04T14:33:41.954789Z",
     "shell.execute_reply": "2023-02-04T14:33:41.953360Z"
    },
    "id": "6a6NzxwJszkw",
    "outputId": "4c8eb0f7-2f81-401d-d393-a446b6c8b47a",
    "papermill": {
     "duration": 0.028501,
     "end_time": "2023-02-04T14:33:41.957297",
     "exception": false,
     "start_time": "2023-02-04T14:33:41.928796",
     "status": "completed"
    },
    "tags": []
   },
   "outputs": [
    {
     "data": {
      "text/html": [
       "<div>\n",
       "<style scoped>\n",
       "    .dataframe tbody tr th:only-of-type {\n",
       "        vertical-align: middle;\n",
       "    }\n",
       "\n",
       "    .dataframe tbody tr th {\n",
       "        vertical-align: top;\n",
       "    }\n",
       "\n",
       "    .dataframe thead th {\n",
       "        text-align: right;\n",
       "    }\n",
       "</style>\n",
       "<table border=\"1\" class=\"dataframe\">\n",
       "  <thead>\n",
       "    <tr style=\"text-align: right;\">\n",
       "      <th></th>\n",
       "      <th>Id</th>\n",
       "      <th>category_1</th>\n",
       "      <th>category_2</th>\n",
       "      <th>category_3</th>\n",
       "      <th>category_4</th>\n",
       "    </tr>\n",
       "  </thead>\n",
       "  <tbody>\n",
       "    <tr>\n",
       "      <th>0</th>\n",
       "      <td>599</td>\n",
       "      <td>0</td>\n",
       "      <td>0</td>\n",
       "      <td>1</td>\n",
       "      <td>0</td>\n",
       "    </tr>\n",
       "    <tr>\n",
       "      <th>1</th>\n",
       "      <td>600</td>\n",
       "      <td>0</td>\n",
       "      <td>0</td>\n",
       "      <td>1</td>\n",
       "      <td>0</td>\n",
       "    </tr>\n",
       "    <tr>\n",
       "      <th>2</th>\n",
       "      <td>602</td>\n",
       "      <td>0</td>\n",
       "      <td>0</td>\n",
       "      <td>1</td>\n",
       "      <td>1</td>\n",
       "    </tr>\n",
       "    <tr>\n",
       "      <th>3</th>\n",
       "      <td>603</td>\n",
       "      <td>0</td>\n",
       "      <td>1</td>\n",
       "      <td>0</td>\n",
       "      <td>0</td>\n",
       "    </tr>\n",
       "    <tr>\n",
       "      <th>4</th>\n",
       "      <td>604</td>\n",
       "      <td>0</td>\n",
       "      <td>0</td>\n",
       "      <td>0</td>\n",
       "      <td>0</td>\n",
       "    </tr>\n",
       "  </tbody>\n",
       "</table>\n",
       "</div>"
      ],
      "text/plain": [
       "   Id   category_1  category_2  category_3  category_4\n",
       "0  599           0           0           1           0\n",
       "1  600           0           0           1           0\n",
       "2  602           0           0           1           1\n",
       "3  603           0           1           0           0\n",
       "4  604           0           0           0           0"
      ]
     },
     "execution_count": 22,
     "metadata": {},
     "output_type": "execute_result"
    }
   ],
   "source": [
    "#check submissions\n",
    "submission_binary.head()"
   ]
  },
  {
   "cell_type": "code",
   "execution_count": 23,
   "id": "dc8b080a",
   "metadata": {
    "execution": {
     "iopub.execute_input": "2023-02-04T14:33:41.979408Z",
     "iopub.status.busy": "2023-02-04T14:33:41.978646Z",
     "iopub.status.idle": "2023-02-04T14:33:42.016438Z",
     "shell.execute_reply": "2023-02-04T14:33:42.014489Z"
    },
    "id": "3OegRN4Ps_lS",
    "outputId": "1e9d8ae2-9ad7-4fc6-a14d-a6d0644b08d6",
    "papermill": {
     "duration": 0.052752,
     "end_time": "2023-02-04T14:33:42.020122",
     "exception": false,
     "start_time": "2023-02-04T14:33:41.967370",
     "status": "completed"
    },
    "tags": []
   },
   "outputs": [
    {
     "data": {
      "text/html": [
       "<div>\n",
       "<style scoped>\n",
       "    .dataframe tbody tr th:only-of-type {\n",
       "        vertical-align: middle;\n",
       "    }\n",
       "\n",
       "    .dataframe tbody tr th {\n",
       "        vertical-align: top;\n",
       "    }\n",
       "\n",
       "    .dataframe thead th {\n",
       "        text-align: right;\n",
       "    }\n",
       "</style>\n",
       "<table border=\"1\" class=\"dataframe\">\n",
       "  <thead>\n",
       "    <tr style=\"text-align: right;\">\n",
       "      <th></th>\n",
       "      <th>Id</th>\n",
       "      <th>category_1</th>\n",
       "      <th>category_2</th>\n",
       "      <th>category_3</th>\n",
       "      <th>category_4</th>\n",
       "    </tr>\n",
       "  </thead>\n",
       "  <tbody>\n",
       "    <tr>\n",
       "      <th>0</th>\n",
       "      <td>599</td>\n",
       "      <td>0</td>\n",
       "      <td>0</td>\n",
       "      <td>1</td>\n",
       "      <td>0</td>\n",
       "    </tr>\n",
       "    <tr>\n",
       "      <th>1</th>\n",
       "      <td>600</td>\n",
       "      <td>0</td>\n",
       "      <td>0</td>\n",
       "      <td>1</td>\n",
       "      <td>0</td>\n",
       "    </tr>\n",
       "    <tr>\n",
       "      <th>2</th>\n",
       "      <td>602</td>\n",
       "      <td>0</td>\n",
       "      <td>0</td>\n",
       "      <td>1</td>\n",
       "      <td>1</td>\n",
       "    </tr>\n",
       "    <tr>\n",
       "      <th>3</th>\n",
       "      <td>603</td>\n",
       "      <td>0</td>\n",
       "      <td>1</td>\n",
       "      <td>0</td>\n",
       "      <td>0</td>\n",
       "    </tr>\n",
       "    <tr>\n",
       "      <th>4</th>\n",
       "      <td>604</td>\n",
       "      <td>0</td>\n",
       "      <td>0</td>\n",
       "      <td>0</td>\n",
       "      <td>1</td>\n",
       "    </tr>\n",
       "    <tr>\n",
       "      <th>...</th>\n",
       "      <td>...</td>\n",
       "      <td>...</td>\n",
       "      <td>...</td>\n",
       "      <td>...</td>\n",
       "      <td>...</td>\n",
       "    </tr>\n",
       "    <tr>\n",
       "      <th>152</th>\n",
       "      <td>798</td>\n",
       "      <td>0</td>\n",
       "      <td>0</td>\n",
       "      <td>1</td>\n",
       "      <td>0</td>\n",
       "    </tr>\n",
       "    <tr>\n",
       "      <th>153</th>\n",
       "      <td>799</td>\n",
       "      <td>0</td>\n",
       "      <td>0</td>\n",
       "      <td>1</td>\n",
       "      <td>0</td>\n",
       "    </tr>\n",
       "    <tr>\n",
       "      <th>154</th>\n",
       "      <td>800</td>\n",
       "      <td>1</td>\n",
       "      <td>0</td>\n",
       "      <td>0</td>\n",
       "      <td>0</td>\n",
       "    </tr>\n",
       "    <tr>\n",
       "      <th>155</th>\n",
       "      <td>801</td>\n",
       "      <td>0</td>\n",
       "      <td>1</td>\n",
       "      <td>0</td>\n",
       "      <td>0</td>\n",
       "    </tr>\n",
       "    <tr>\n",
       "      <th>156</th>\n",
       "      <td>802</td>\n",
       "      <td>1</td>\n",
       "      <td>0</td>\n",
       "      <td>0</td>\n",
       "      <td>0</td>\n",
       "    </tr>\n",
       "  </tbody>\n",
       "</table>\n",
       "<p>157 rows × 5 columns</p>\n",
       "</div>"
      ],
      "text/plain": [
       "     Id   category_1  category_2  category_3  category_4\n",
       "0    599           0           0           1           0\n",
       "1    600           0           0           1           0\n",
       "2    602           0           0           1           1\n",
       "3    603           0           1           0           0\n",
       "4    604           0           0           0           1\n",
       "..   ...         ...         ...         ...         ...\n",
       "152  798           0           0           1           0\n",
       "153  799           0           0           1           0\n",
       "154  800           1           0           0           0\n",
       "155  801           0           1           0           0\n",
       "156  802           1           0           0           0\n",
       "\n",
       "[157 rows x 5 columns]"
      ]
     },
     "execution_count": 23,
     "metadata": {},
     "output_type": "execute_result"
    }
   ],
   "source": [
    "# if the first 3 categories are at 0, we put the 4th at 1\n",
    "for i in range(len(submission_binary)):\n",
    "  if submission_binary['category_1'].loc[i]==0 and submission_binary['category_2'].loc[i]==0 and submission_binary['category_3'].loc[i]==0:\n",
    "    submission_binary['category_4'].loc[i]=1\n",
    "\n",
    "submission_binary"
   ]
  },
  {
   "cell_type": "code",
   "execution_count": 24,
   "id": "eb3cc11c",
   "metadata": {
    "execution": {
     "iopub.execute_input": "2023-02-04T14:33:42.044887Z",
     "iopub.status.busy": "2023-02-04T14:33:42.044394Z",
     "iopub.status.idle": "2023-02-04T14:33:42.055417Z",
     "shell.execute_reply": "2023-02-04T14:33:42.053798Z"
    },
    "id": "FuujZ6Amt2VK",
    "papermill": {
     "duration": 0.026977,
     "end_time": "2023-02-04T14:33:42.059176",
     "exception": false,
     "start_time": "2023-02-04T14:33:42.032199",
     "status": "completed"
    },
    "tags": []
   },
   "outputs": [],
   "source": [
    "# generate submission file\n",
    "submission_binary.to_csv('Submissions.csv',index=False)"
   ]
  }
 ],
 "metadata": {
  "kernelspec": {
   "display_name": "Python 3",
   "language": "python",
   "name": "python3"
  },
  "language_info": {
   "codemirror_mode": {
    "name": "ipython",
    "version": 3
   },
   "file_extension": ".py",
   "mimetype": "text/x-python",
   "name": "python",
   "nbconvert_exporter": "python",
   "pygments_lexer": "ipython3",
   "version": "3.7.12"
  },
  "papermill": {
   "default_parameters": {},
   "duration": 14.92693,
   "end_time": "2023-02-04T14:33:43.095611",
   "environment_variables": {},
   "exception": null,
   "input_path": "__notebook__.ipynb",
   "output_path": "__notebook__.ipynb",
   "parameters": {},
   "start_time": "2023-02-04T14:33:28.168681",
   "version": "2.3.4"
  }
 },
 "nbformat": 4,
 "nbformat_minor": 5
}
